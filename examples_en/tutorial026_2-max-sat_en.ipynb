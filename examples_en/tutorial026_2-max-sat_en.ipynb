{
 "cells": [
  {
   "cell_type": "markdown",
   "metadata": {
    "colab_type": "text",
    "id": "W8ABqYBVVWte"
   },
   "source": [
    "# 2-MAX SAT simple QUBO FORM"
   ]
  },
  {
   "cell_type": "markdown",
   "metadata": {
    "colab_type": "text",
    "id": "qDMqwQM30Xkb"
   },
   "source": [
    "$$ \n",
    "F = (x_1  \\lor x_2)  \n",
    "\\land (x_1 \\lor \\overline x_2) \n",
    "\\land (\\overline x_1 \\lor x_2) \n",
    "\\land (\\overline x_1 \\lor \\overline x_2) \n",
    "\\land (\\overline x_1 \\lor x_3) \n",
    "\\land (\\overline x_1 \\overline \\lor x_3) \n",
    "\\land (x_2 \\lor  \\overline x_3) \n",
    "\\land (x_2 \\lor x_4) \n",
    "\\land (\\overline x_2 \\lor x_3) \n",
    "\\land (\\overline x_2 \\lor \\overline x_3) \n",
    "\\land (x_3 \\lor x_4) \n",
    "\\land (\\overline x_3 \\lor \\overline x_4) \n",
    "$$"
   ]
  },
  {
   "cell_type": "markdown",
   "metadata": {
    "colab": {
     "base_uri": "https://localhost:8080/",
     "height": 478
    },
    "colab_type": "code",
    "id": "pu0aQ7u10ZJB",
    "outputId": "ea71062f-372c-4467-bf8a-2d1bfb087c12"
   },
   "source": []
  },
  {
   "cell_type": "markdown",
   "metadata": {
    "colab_type": "text",
    "id": "Ops9t-5ZVaWW"
   },
   "source": [
    "$$  (x \\lor y) = (1-x-y+xy)$$\n",
    "$$ (x \\lor \\overline y) = (y-xy) $$\n",
    "$$ (\\overline x \\lor y) = (x - xy) $$\n",
    "$$ (\\overline x \\lor \\overline y) = (xy)$$\n",
    "\n",
    "QUBO form:\n",
    "\n",
    "$$ y = 3 + x_1 - 2 x_4 + 2 x_3 x_4 + x_2 (-x_3 + x_4) $$\n",
    "$$ y = 3 + x^{T}Qx $$\n"
   ]
  },
  {
   "cell_type": "code",
   "execution_count": 1,
   "metadata": {
    "colab": {},
    "colab_type": "code",
    "id": "EBM3oJgSVSTA"
   },
   "outputs": [],
   "source": [
    "import wildqat as wq"
   ]
  },
  {
   "cell_type": "code",
   "execution_count": 2,
   "metadata": {
    "colab": {
     "base_uri": "https://localhost:8080/",
     "height": 51
    },
    "colab_type": "code",
    "id": "GbxWr2CKIFNE",
    "outputId": "dcdb5de6-2b7f-446a-abe7-239983ba14af"
   },
   "outputs": [
    {
     "data": {
      "text/plain": [
       "[0, 0, 0, 1]"
      ]
     },
     "execution_count": 2,
     "metadata": {},
     "output_type": "execute_result"
    }
   ],
   "source": [
    "b = wq.opt()\n",
    "b.qubo = [[1,0,0,0],[0,0,-0.5,0.5],[0,-0.5,0,1],[0,0.5,0,-2]]\n",
    "b.sa()"
   ]
  },
  {
   "cell_type": "markdown",
   "metadata": {
    "colab_type": "text",
    "id": "E5HHkYBTVZEk"
   },
   "source": [
    "$$ \n",
    "F = (x_1  \\lor x_2)  \n",
    "\\land (x_1 \\lor \\overline x_3) \n",
    "\\land (x_2 \\lor x_4) \n",
    "\\land (\\overline x_3 \\lor \\overline x_4)\n",
    "\\land (\\overline x_1 \\lor \\overline x_4)\n",
    "$$"
   ]
  },
  {
   "cell_type": "markdown",
   "metadata": {},
   "source": [
    "## Example with undecided"
   ]
  },
  {
   "cell_type": "code",
   "execution_count": 14,
   "metadata": {},
   "outputs": [
    {
     "data": {
      "text/plain": [
       "[0, 1, 0, 1]"
      ]
     },
     "execution_count": 14,
     "metadata": {},
     "output_type": "execute_result"
    }
   ],
   "source": [
    "z = wq.opt()\n",
    "z.qubo = [\n",
    "    [-1, 0.5, -0.5, 0.5],\n",
    "    [0.5, -2, 0, 0.5],\n",
    "    [-0.5, 0, 1, 0.5],\n",
    "    [0.5, 0.5, 0.5, -1]\n",
    "]\n",
    "z.sa()\n"
   ]
  },
  {
   "cell_type": "code",
   "execution_count": 12,
   "metadata": {},
   "outputs": [
    {
     "data": {
      "text/plain": [
       "[1, 1, 0, 1]"
      ]
     },
     "execution_count": 12,
     "metadata": {},
     "output_type": "execute_result"
    }
   ],
   "source": [
    "z = wq.opt()\n",
    "z.qubo = [\n",
    "    [-1, 0.5, -0.5, 0.5],\n",
    "    [0.5, -2, 0, 0.5],\n",
    "    [-0.5, 0, 1, 0.5],\n",
    "    [0.5, 0.5, 0.5, -1]\n",
    "]\n",
    "z.sa()"
   ]
  },
  {
   "cell_type": "markdown",
   "metadata": {},
   "source": []
  },
  {
   "cell_type": "code",
   "execution_count": null,
   "metadata": {},
   "outputs": [],
   "source": []
  }
 ],
 "metadata": {
  "colab": {
   "collapsed_sections": [],
   "name": "tutorial022_maxcut_en",
   "provenance": [],
   "version": "0.3.2"
  },
  "kernelspec": {
   "display_name": "Python 3",
   "language": "python",
   "name": "python3"
  },
  "language_info": {
   "codemirror_mode": {
    "name": "ipython",
    "version": 3
   },
   "file_extension": ".py",
   "mimetype": "text/x-python",
   "name": "python",
   "nbconvert_exporter": "python",
   "pygments_lexer": "ipython3",
   "version": "3.5.2"
  }
 },
 "nbformat": 4,
 "nbformat_minor": 1
}
